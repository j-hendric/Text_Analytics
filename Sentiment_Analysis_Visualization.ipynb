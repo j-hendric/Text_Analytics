{
 "cells": [
  {
   "cell_type": "markdown",
   "id": "b5fb84e2",
   "metadata": {},
   "source": [
    "# Exercise 3"
   ]
  },
  {
   "cell_type": "markdown",
   "id": "02c00705",
   "metadata": {},
   "source": [
    "1.a The following code creates a list of sentences. Apply the sentiment analyzers from AFINN, TextBlob, and VADER to each sentence. Store the sentiment scores together with the sentences in a four-column data frame called **df1**. The columns are named \"text\", \"AFINN\", \"TextBlob\", and \"VADER\". Column \"text\" contains the original sentences and the other columns store different sentiment scores. "
   ]
  },
  {
   "cell_type": "code",
   "execution_count": null,
   "id": "72419395",
   "metadata": {},
   "outputs": [],
   "source": [
    "sentences = [\"VADER is smart, handsome, and funny.\", # positive sentence example\n",
    "    \"VADER is smart, handsome, and funny!\", # punctuation emphasis handled correctly (sentiment intensity adjusted)\n",
    "    \"VADER is very smart, handsome, and funny.\",  # booster words handled correctly (sentiment intensity adjusted)\n",
    "    \"VADER is VERY SMART, handsome, and FUNNY.\",  # emphasis for ALLCAPS handled\n",
    "    \"VADER is VERY SMART, handsome, and FUNNY!!!\",# combination of signals - VADER appropriately adjusts intensity\n",
    "    \"VADER is VERY SMART, really handsome, and INCREDIBLY FUNNY!!!\",# booster words & punctuation make this close to ceiling for score\n",
    "    \"The book was good.\",         # positive sentence\n",
    "    \"The book was kind of good.\", # qualified positive sentence is handled correctly (intensity adjusted)\n",
    "    \"The plot was good, but the characters are uncompelling and the dialog is not great.\", # mixed negation sentence\n",
    "    \"A really bad, horrible book.\",       # negative sentence with booster words\n",
    "    \"At least it isn't a horrible book.\", # negated negative sentence with contraction\n",
    "    \":) and :D\",     # emoticons handled\n",
    "    \"😭\",            # a crying emoji handled\n",
    "    \"Today sux\",     #  negative slang handled\n",
    "    \"Today sux!\",    #  negative slang with punctuation emphasis handled\n",
    "    \"Today SUX!\",    #  negative slang with capitalization emphasis\n",
    "    \"Today kinda sux! But I'll get by, lol\" # mixed sentiment example with slang and constrastive conjunction \"but\"\n",
    "]"
   ]
  },
  {
   "cell_type": "code",
   "execution_count": null,
   "id": "b3a7eef1",
   "metadata": {},
   "outputs": [],
   "source": [
    "#Your answer here\n",
    "\n",
    "#Check you answer\n",
    "df1"
   ]
  },
  {
   "cell_type": "markdown",
   "id": "642b1e2e",
   "metadata": {},
   "source": [
    "1.b Compare the scores in df1. Which methods adjust score based on intensifiers? Which methods adjust score based on capitalization? What evidences from df1 is your answer based on?"
   ]
  },
  {
   "cell_type": "markdown",
   "id": "6136302f",
   "metadata": {},
   "source": [
    "Your answer here:"
   ]
  },
  {
   "cell_type": "markdown",
   "id": "606c2539",
   "metadata": {},
   "source": [
    "2.a. The following code load a csv file \"twitter2019.csv\" into a dataframe **df2**, This file contains the tweets that calls out the user names ‘@RockwellCollins’, ‘@Transamerica’, ‘@ACT’, ‘@MedTouch’, ‘@UnityPointCR’, ‘@KirkwoodCC’, ‘@verizon’ and ‘@BankofAmerica’. \n",
    "\n",
    "Use **re** library and regular expression to remove all urls and all @users (like '@UnityPointCR') in the tweets. For simplcity, you may use \"http\\S+\" to represent urls and use \"@\\S+\" to represent all @users. Overwrite column \"text\" with the cleaned tweets."
   ]
  },
  {
   "cell_type": "code",
   "execution_count": null,
   "id": "bdc64f47",
   "metadata": {},
   "outputs": [],
   "source": [
    "import pandas as pd\n",
    "df2=pd.read_csv('classdata/twitter2019.csv',encoding=\"latin-1\")\n",
    "del df2[\"Unnamed: 0\"]\n",
    "df2['created_at']=pd.to_datetime(df2['created_at'])\n",
    "df2.head()"
   ]
  },
  {
   "cell_type": "code",
   "execution_count": null,
   "id": "6ec1ef73",
   "metadata": {},
   "outputs": [],
   "source": [
    "#Your answer here:\n",
    "\n",
    "#Check your answer:\n",
    "df2.head()"
   ]
  },
  {
   "cell_type": "markdown",
   "id": "2d614690",
   "metadata": {},
   "source": [
    "2.b Apply VADER sentiment analyzer to each tweet. Save the sentiment score in a new column of **df2** called VADER."
   ]
  },
  {
   "cell_type": "code",
   "execution_count": null,
   "id": "f8a3952c",
   "metadata": {},
   "outputs": [],
   "source": [
    "#Your answer here:\n",
    "\n",
    "#Check your answer:\n",
    "df2.head()"
   ]
  },
  {
   "cell_type": "markdown",
   "id": "9dad4762",
   "metadata": {},
   "source": [
    "2.c According to VADER score, what is the most negative tweet in the dataset? *Hint: You may sort the df2 in an ascending order in column VADER, reset row index, and return the first tweet. See \"List and Dataframe in Python.ipynb\" if you forget how to sort a data frame and reset row index.*"
   ]
  },
  {
   "cell_type": "code",
   "execution_count": null,
   "id": "cb45a3a6",
   "metadata": {},
   "outputs": [],
   "source": [
    "#Your answer here:\n",
    "\n",
    "#Check your answer:\n",
    "df2.text[0]"
   ]
  }
 ],
 "metadata": {
  "kernelspec": {
   "display_name": "Python 3 (ipykernel)",
   "language": "python",
   "name": "python3"
  },
  "language_info": {
   "codemirror_mode": {
    "name": "ipython",
    "version": 3
   },
   "file_extension": ".py",
   "mimetype": "text/x-python",
   "name": "python",
   "nbconvert_exporter": "python",
   "pygments_lexer": "ipython3",
   "version": "3.8.0"
  }
 },
 "nbformat": 4,
 "nbformat_minor": 5
}
