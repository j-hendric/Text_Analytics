{
 "cells": [
  {
   "cell_type": "markdown",
   "id": "0d952c9e",
   "metadata": {},
   "source": [
    "# Exercise 6"
   ]
  },
  {
   "cell_type": "markdown",
   "id": "ad45682c",
   "metadata": {},
   "source": [
    "The csv file \"classdata/twosports.csv\" contains the posts from a forum. All posts are about baseball and hockey. You task is to build a sparse logistic regression model that can predict if a post is about baseball or hockey. \n",
    "\n",
    "- Column \"topic\" contains the class labels (\"baseball\" or \"hockey\"). \n",
    "- Column \"text\" contains the texts of posts. \n",
    "\n",
    "The following code load the libraries and reads the data and shows the frequencies of the class labels."
   ]
  },
  {
   "cell_type": "code",
   "execution_count": null,
   "id": "c1ff4818",
   "metadata": {},
   "outputs": [],
   "source": [
    "import pandas as pd\n",
    "from sklearn.model_selection import train_test_split\n",
    "from sklearn.feature_extraction.text import CountVectorizer, TfidfVectorizer\n",
    "from sklearn.metrics import confusion_matrix, accuracy_score, roc_auc_score\n",
    "import nltk \n",
    "import numpy as np\n",
    "from sklearn.svm import l1_min_c\n",
    "from sklearn.linear_model import LogisticRegressionCV\n",
    "\n",
    "df = pd.read_csv(\"classdata/twosports.csv\",encoding=\"latin-1\")\n",
    "df.head()"
   ]
  },
  {
   "cell_type": "markdown",
   "id": "49ba2191",
   "metadata": {},
   "source": [
    "The following code split the data into training and testing sets using a random seed of 2021. It also defines the stop-word list and different vectorizers which you may need for this question."
   ]
  },
  {
   "cell_type": "code",
   "execution_count": null,
   "id": "7b24443d",
   "metadata": {},
   "outputs": [],
   "source": [
    "df_train, df_test = train_test_split(df, test_size=0.30)\n",
    "df_train.reset_index(drop=True,inplace=True)\n",
    "df_test.reset_index(drop=True,inplace=True)\n",
    "\n",
    "nltk_stopwords = nltk.corpus.stopwords.words(\"english\") \n",
    "\n",
    "df_train, df_test = train_test_split(df, test_size=0.30, \n",
    "                                     random_state=2021   #Random seed set to be 2021.\n",
    "                                    )\n",
    "df_train.reset_index(drop=True,inplace=True)\n",
    "df_test.reset_index(drop=True,inplace=True)\n",
    "\n",
    "stemmer = nltk.stem.SnowballStemmer(\"english\", ignore_stopwords=True)\n",
    "class StemmedTfidfVectorizer(TfidfVectorizer):\n",
    "    def build_analyzer(self):\n",
    "        analyzer = super(StemmedTfidfVectorizer, self).build_analyzer()\n",
    "        return lambda doc: ([stemmer.stem(w) for w in analyzer(doc)])\n",
    "\n",
    "class StemmedCountVectorizer(CountVectorizer):\n",
    "    def build_analyzer(self):\n",
    "        analyzer = super(StemmedCountVectorizer, self).build_analyzer()\n",
    "        return lambda doc: ([stemmer.stem(w) for w in analyzer(doc)])"
   ]
  },
  {
   "cell_type": "markdown",
   "id": "102d1012",
   "metadata": {},
   "source": [
    "1. Use any DTM you like to create a sparse logistic regression model to predict column \"topic\".  You need to select $C$ by 5-fold cross validation from a grid of **30 candidates** that increase proportionally from **l1_min_c** to **l1_min_c$\\times 10^{8}$**. Use AUC as the criterion for selecting $C$. Set the remaining parameters in **LogisticRegressionCV** as follows\n",
    "  \n",
    "  - random_state=2021   \n",
    "  - tol=0.001           \n",
    "  - max_iter=100\n",
    "  - scoring='accuracy'\n",
    "\n",
    "Calculate and print the accuracy and AUC score of your model on the testing set."
   ]
  },
  {
   "cell_type": "code",
   "execution_count": null,
   "id": "7dae4770",
   "metadata": {},
   "outputs": [],
   "source": [
    "#Your answer here: \n",
    "\n",
    "\n",
    "#Check your answer\n",
    "print(accuracy_score(test_y,sparselr.predict(test_x)))\n",
    "print(roc_auc_score(test_y,sparselr.predict_proba(test_x)[:, 1]))"
   ]
  },
  {
   "cell_type": "markdown",
   "id": "0de157aa",
   "metadata": {},
   "source": [
    "2. Use the same DTM from the previous question to build a XGBoost model to predict column \"topic\".  You need to select parameter 'max_depth' from $\\{2,3,4\\}$ and select parameter 'n_estimators' from $\\{100,500\\}$ by 5-fold cross validation. Use AUC as the criterion for selecting the parameters. Set other parameters in **XGBClassifier** as follows\n",
    "\n",
    "  - nthread=4\n",
    "  - use_label_encoder=False\n",
    "  - verbosity = 0\n",
    "  - random_state=2021\n",
    "  \n",
    "Save the output XGBoost model as **xgb**."
   ]
  },
  {
   "cell_type": "code",
   "execution_count": null,
   "id": "561cd43e",
   "metadata": {},
   "outputs": [],
   "source": [
    "#Your answer here:\n",
    "\n",
    "\n",
    "#Check your answer:\n",
    "xgb"
   ]
  },
  {
   "cell_type": "markdown",
   "id": "312c1ec6",
   "metadata": {},
   "source": [
    "3. What is the best combination of the parameters used in the XGBoost model in question 2?"
   ]
  },
  {
   "cell_type": "code",
   "execution_count": null,
   "id": "a12d1719",
   "metadata": {},
   "outputs": [],
   "source": [
    "#Your answer here:\n"
   ]
  },
  {
   "cell_type": "markdown",
   "id": "169bebfb",
   "metadata": {},
   "source": [
    "4. Print the accuracy and the AUC score on the testing set obtained by the XGBoost model in question 2?"
   ]
  },
  {
   "cell_type": "code",
   "execution_count": null,
   "id": "9f83669c",
   "metadata": {},
   "outputs": [],
   "source": [
    "#Your answer here:\n"
   ]
  },
  {
   "cell_type": "markdown",
   "id": "1e407e8b",
   "metadata": {},
   "source": [
    "5. Use the same DTM from question 1 to build a XGBoost model to predict column \"topic\". You need to use the best combination of the parameters identified in quesiton 3. Other parameters should be set the same as in question 2. What are the ten most important terms your XGBoost model uses to make predictions.  "
   ]
  },
  {
   "cell_type": "code",
   "execution_count": null,
   "id": "2bd9abd7",
   "metadata": {},
   "outputs": [],
   "source": [
    "#Your answer here:\n",
    "\n",
    "#Check your answer:\n",
    "dfbeta.head(10)"
   ]
  }
 ],
 "metadata": {
  "kernelspec": {
   "display_name": "Python 3 (ipykernel)",
   "language": "python",
   "name": "python3"
  },
  "language_info": {
   "codemirror_mode": {
    "name": "ipython",
    "version": 3
   },
   "file_extension": ".py",
   "mimetype": "text/x-python",
   "name": "python",
   "nbconvert_exporter": "python",
   "pygments_lexer": "ipython3",
   "version": "3.8.0"
  }
 },
 "nbformat": 4,
 "nbformat_minor": 5
}
