{
 "cells": [
  {
   "cell_type": "markdown",
   "id": "8c7b321a",
   "metadata": {},
   "source": [
    "# Exercise 4"
   ]
  },
  {
   "cell_type": "markdown",
   "id": "66c70da2",
   "metadata": {},
   "source": [
    "The following code loads a dataset of reviews about hotels and electronic products. Column \"Review\" contains the review texts and column \"Domain\" indicates if a review is about a hotel or an electronic product. In this exercise, we will focus on reviews on hotels in this data. The following code creates a new data frame that only contains the rows from the raw data whose \"Domain\" equals \"Hotels\". "
   ]
  },
  {
   "cell_type": "code",
   "execution_count": null,
   "id": "e27c6dbf",
   "metadata": {},
   "outputs": [],
   "source": [
    "import pandas as pd\n",
    "df = pd.read_csv(\"classdata/Lies_and_Truths.csv\")\n",
    "df = df[df.Domain==\"Hotels\"].copy()\n",
    "df.reset_index(drop=True, inplace=True)\n",
    "df[[\"Domain\",\"Review\"]].head()"
   ]
  },
  {
   "cell_type": "markdown",
   "id": "ad0c5e78",
   "metadata": {},
   "source": [
    "1. Convert column \"Review\" to a DTM based on the following requirements:\n",
    "\n",
    "    - Use the default tokenizer from sklearn library. \n",
    "    - Remove stop words in the list of nltk. \n",
    "    - Don't stem tokens. \n",
    "    - Create DTM with TF scores.\n",
    "\n",
    "  Save your DTM as a variable called **DTM1**. Print the shape of DTM1."
   ]
  },
  {
   "cell_type": "code",
   "execution_count": null,
   "id": "ce6441de",
   "metadata": {},
   "outputs": [],
   "source": [
    "#Your answer here:\n",
    "\n",
    "\n",
    "#Check your answer:\n",
    "DTM1.shape"
   ]
  },
  {
   "cell_type": "markdown",
   "id": "557717e5",
   "metadata": {},
   "source": [
    "2. Convert column \"Review\" to a DTM based on the following requirements:\n",
    "\n",
    "    - Use the default tokenizer from sklearn library. \n",
    "    - Remove stop words in the list of nltk. \n",
    "    - Stem the tokens using the SnowBall stemmer from nltk. \n",
    "    - Create DTM with TF score.\n",
    "    \n",
    "   Save your DTM as a variable called **DTM2**. Print the shape of DTM2. Compare the shape with question 1. "
   ]
  },
  {
   "cell_type": "code",
   "execution_count": null,
   "id": "235cdbe0",
   "metadata": {},
   "outputs": [],
   "source": [
    "#Your answer here:\n",
    "\n",
    "\n",
    "#Check your answer:\n",
    "DTM2.shape"
   ]
  },
  {
   "cell_type": "markdown",
   "id": "a388dd30",
   "metadata": {},
   "source": [
    "3.  Use the column sums of DTM2 from question 3 to calculuate the total frequency of each unique term. Save your output as a two-column data frame called **dffreq**, in which the terms are given in column \"Term\" and their total frequencies are given in column \"Frequency\". Sort **dffreq** by the total frequencies in a descending order and reset the row index."
   ]
  },
  {
   "cell_type": "code",
   "execution_count": null,
   "id": "ea34fc2d",
   "metadata": {},
   "outputs": [],
   "source": [
    "#Your answer here:\n",
    "\n",
    "\n",
    "#Check your answer:\n",
    "dffreq.head(10)"
   ]
  },
  {
   "cell_type": "markdown",
   "id": "32e2c641",
   "metadata": {},
   "source": [
    "4. Convert column \"Review\" to a DTM based on the following requirements:\n",
    "\n",
    "    - Use the default tokenizer from sklearn library. \n",
    "    - Remove stop words in the list of nltk. \n",
    "    - Stem the tokens using the SnowBall stemmer from nltk. \n",
    "    - Create DTM with TFIDF score without row normalization.\n",
    "    \n",
    "   Save your DTM as a variable called **DTM3**. Print the shape of DTM3."
   ]
  },
  {
   "cell_type": "code",
   "execution_count": null,
   "id": "17d7bbea",
   "metadata": {},
   "outputs": [],
   "source": [
    "#Your answer here:\n",
    "\n",
    "\n",
    "#Check your answer:\n",
    "DTM3.shape"
   ]
  },
  {
   "cell_type": "markdown",
   "id": "a1401952",
   "metadata": {},
   "source": [
    "5. Convert column \"Review\" to a DTM based on the following requirements:\n",
    "\n",
    "    - Use the default tokenizer from sklearn library. \n",
    "    - Remove stop words in the list of nltk. \n",
    "    - Stem the tokens using the SnowBall stemmer from nltk. \n",
    "    - Create DTM with TF score \n",
    "    - Use only bigrams in vocabulary. (*Hint: Set ngram_range*)\n",
    "    - Use only the top 2000 bigrams.  (*Hint: Set max_features*)\n",
    "    \n",
    "   Save your DTM as a variable called **DTM4**. Print the shape of DTM4."
   ]
  },
  {
   "cell_type": "code",
   "execution_count": null,
   "id": "c07bef09",
   "metadata": {},
   "outputs": [],
   "source": [
    "#Your answer here:\n",
    "\n",
    "\n",
    "#Check your answer:\n",
    "DTM4.shape"
   ]
  }
 ],
 "metadata": {
  "kernelspec": {
   "display_name": "Python 3 (ipykernel)",
   "language": "python",
   "name": "python3"
  },
  "language_info": {
   "codemirror_mode": {
    "name": "ipython",
    "version": 3
   },
   "file_extension": ".py",
   "mimetype": "text/x-python",
   "name": "python",
   "nbconvert_exporter": "python",
   "pygments_lexer": "ipython3",
   "version": "3.8.0"
  }
 },
 "nbformat": 4,
 "nbformat_minor": 5
}
