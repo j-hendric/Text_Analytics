{
 "cells": [
  {
   "cell_type": "markdown",
   "id": "385265fd",
   "metadata": {},
   "source": [
    "# Exercise 5"
   ]
  },
  {
   "cell_type": "markdown",
   "id": "956f6a20",
   "metadata": {},
   "source": [
    "The csv file \"classdata/Aircraft Incidents.csv\" contains the investigation reports by the National Transportation Safety Board (NTSB) for all airline incidents in 2011. \n",
    "\n",
    "- Column \"Final Narrative\" gives the final description of each accident and its probable cause. \n",
    "- Column \"Fatal\" indicates if there was any fatality in each accident. \n",
    "\n",
    "The following code reads the data and shows the frequencies of the class labels."
   ]
  },
  {
   "cell_type": "code",
   "execution_count": 9,
   "id": "73841267",
   "metadata": {},
   "outputs": [
    {
     "data": {
      "text/plain": [
       "Non-Fatal    1554\n",
       "Fatal         352\n",
       "Name: Fatal, dtype: int64"
      ]
     },
     "execution_count": 9,
     "metadata": {},
     "output_type": "execute_result"
    }
   ],
   "source": [
    "import pandas as pd\n",
    "df=pd.read_csv(\"classdata/Aircraft Incidents.csv\")\n",
    "df.Fatal.value_counts()"
   ]
  },
  {
   "cell_type": "markdown",
   "id": "1a24cf1c",
   "metadata": {},
   "source": [
    "1. Partition **df** into training (70%) and testing (30%) sets as new dataframes. Convert column \"Final Narrative\" in each set to a DTM based on the following requirements:\n",
    "\n",
    "    - Use the default tokenizer from sklearn library. \n",
    "    - Remove stop words in the list of nltk. \n",
    "    - Do not stem the terms.\n",
    "    - Create DTM in TFIDF with using bigrams. \n",
    "    - Normalize the rows of DTM so that each row sums up to one. (*Hint: set up norm=\"l1\"*)\n",
    "    \n",
    " Save your DTMs as **train_x** and **train_y**. Print the shape of train_x and train_y."
   ]
  },
  {
   "cell_type": "code",
   "execution_count": null,
   "id": "1e789735",
   "metadata": {},
   "outputs": [],
   "source": [
    "#Your answer here:\n",
    "\n",
    "\n",
    "\n",
    "#Check your answer\n",
    "print(train_x.shape)\n",
    "print(test_x.shape)"
   ]
  },
  {
   "cell_type": "markdown",
   "id": "544eed04",
   "metadata": {},
   "source": [
    "2. Create a sparse logistic regression model with $C=100$ to predict column \"Fatal\" using the DTM matrix created from column \"Final Narrative\". You can set tolerance and max iteration number to any values as long as the warmining message \"failed to converge\" does not show up. Set random_state to 2021 for reproducibility. Save your model as **sparselr**. "
   ]
  },
  {
   "cell_type": "code",
   "execution_count": null,
   "id": "ba08875c",
   "metadata": {},
   "outputs": [],
   "source": [
    "#Your answer here:\n",
    "\n",
    "\n",
    "#Check your answer:\n",
    "sparselr"
   ]
  },
  {
   "cell_type": "markdown",
   "id": "c4194cbf",
   "metadata": {},
   "source": [
    "3. Print the number of non-zero betas in **sparselr** from question 2. According to the size of vocabulary shown in question 1, how much percent of betas are non-zero? You can do the calculate manually and type your answer as a comment in the code.  "
   ]
  },
  {
   "cell_type": "code",
   "execution_count": null,
   "id": "155d83e4",
   "metadata": {},
   "outputs": [],
   "source": [
    "#Your answer here:\n",
    "\n",
    "\n",
    "#how much percent of betas are non-zero? \n",
    "#Your answer here:"
   ]
  },
  {
   "attachments": {},
   "cell_type": "markdown",
   "id": "688124d0",
   "metadata": {},
   "source": [
    "4. Print 15 bigrams that have the largest impact to outcome \"Fatal\". \n",
    "\n",
    "*Hint: Which outcome is considered to be the positive class by the model? Non-Fatal or Fatal? Which outcome is considered to be negative by the model? Will you look for positive betas or negative betas? Will you sort betas in ascending or descending order?*"
   ]
  },
  {
   "cell_type": "code",
   "execution_count": null,
   "id": "e1904697",
   "metadata": {},
   "outputs": [],
   "source": [
    "#Your answer here:\n",
    "\n",
    "\n",
    "#Check your answer:\n",
    "dfbeta.head(15)"
   ]
  },
  {
   "cell_type": "markdown",
   "id": "b333e6aa",
   "metadata": {},
   "source": [
    "5. Print 15 bigrams that have the largest impact to outcome \"Non-Fatal\".\n",
    "\n",
    "*Hint: Same as question 4*"
   ]
  },
  {
   "cell_type": "code",
   "execution_count": null,
   "id": "14288df2",
   "metadata": {},
   "outputs": [],
   "source": [
    "#Your answer here:\n",
    "\n",
    "\n",
    "#Check your answer:\n",
    "dfbeta.head(15)"
   ]
  },
  {
   "cell_type": "markdown",
   "id": "796b0fd2",
   "metadata": {},
   "source": [
    "6. Print the prediction accuracy of **sparselr** on training and testing sets."
   ]
  },
  {
   "cell_type": "code",
   "execution_count": null,
   "id": "078dbeaa",
   "metadata": {},
   "outputs": [],
   "source": [
    "#Your answer here:\n",
    "\n"
   ]
  },
  {
   "cell_type": "markdown",
   "id": "86a68482",
   "metadata": {},
   "source": [
    "7. Print the AUC score of **sparselr** on training and testing sets."
   ]
  },
  {
   "cell_type": "code",
   "execution_count": null,
   "id": "11895a72",
   "metadata": {},
   "outputs": [],
   "source": [
    "#Your answer here:\n",
    "\n"
   ]
  }
 ],
 "metadata": {
  "kernelspec": {
   "display_name": "Python 3 (ipykernel)",
   "language": "python",
   "name": "python3"
  },
  "language_info": {
   "codemirror_mode": {
    "name": "ipython",
    "version": 3
   },
   "file_extension": ".py",
   "mimetype": "text/x-python",
   "name": "python",
   "nbconvert_exporter": "python",
   "pygments_lexer": "ipython3",
   "version": "3.8.0"
  }
 },
 "nbformat": 4,
 "nbformat_minor": 5
}
