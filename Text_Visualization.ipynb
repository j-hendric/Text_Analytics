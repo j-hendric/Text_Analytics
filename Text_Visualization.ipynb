{
 "cells": [
  {
   "cell_type": "markdown",
   "id": "9409e8c9",
   "metadata": {},
   "source": [
    "# Exercise 8 Solution"
   ]
  },
  {
   "cell_type": "markdown",
   "id": "fbb945cb",
   "metadata": {},
   "source": [
    "**\"classdata/Airline-Tweet-Sentiment.csv\"** collects the tweets that mention one of the six major airlines in the US. The goal here is to analyze the differences in the relative term frequencies when people tweet about these airlines.\n",
    "\n",
    "The following code reads the data file into a data frame **df** and does some cleaning."
   ]
  },
  {
   "cell_type": "code",
   "execution_count": null,
   "id": "5fbb6d90",
   "metadata": {
    "scrolled": false
   },
   "outputs": [],
   "source": [
    "import pandas as pd\n",
    "df = pd.read_csv('classdata/Airline-Tweet-Sentiment.csv',encoding='latin-1')\n",
    "df[\"text\"]=df[\"text\"].str.replace('@\\S+',' ',regex=True)\n",
    "df[\"text\"]=df[\"text\"].str.replace('http\\S+',' ',regex=True)\n",
    "display(df[[\"tweet_created\",\"airline\",\"text\"]].head())\n",
    "print(df.airline.value_counts())"
   ]
  },
  {
   "cell_type": "markdown",
   "id": "285fd5ca",
   "metadata": {},
   "source": [
    "## Part 1: Bar Chart"
   ]
  },
  {
   "cell_type": "markdown",
   "id": "b369c0c1",
   "metadata": {},
   "source": [
    "1. Choose any three airlines you are interested in. Create the DTM for the tweets about each of the three airlines separately. Your DTMs must satisfy the following requirements:\n",
    "\n",
    "   - Use the default tokenizer from sklearn library. \n",
    "   - Remove stop words in the list of nltk. \n",
    "   - Don't stem tokens.\n",
    "   - Create DTM with TF scores.\n",
    "   - Use only bigrams in vocabulary.\n",
    "\n",
    "Save the three DTMs as **DTM1**, **DTM2** and **DTM3**. Calculuate the total frequency of each unique term in each DTM. Save your output as three two-column data frames called **dffreq1**, **dffreq2**, and **dffreq3**, in which the terms are given in column \"Term\" and their total frequencies are given in column \"Frequency\". Sort each of them by the total frequencies in a descending order and reset the row index. "
   ]
  },
  {
   "cell_type": "code",
   "execution_count": null,
   "id": "6909a275",
   "metadata": {},
   "outputs": [],
   "source": [
    "#You answer here:\n",
    "\n",
    "\n",
    "#Check your answer\n",
    "display(dffreq1.head())\n",
    "display(dffreq2.head())\n",
    "display(dffreq3.head())"
   ]
  },
  {
   "cell_type": "markdown",
   "id": "33ce7104",
   "metadata": {},
   "source": [
    "2. Merge **dffreq1**, **dffreq2**, and **dffreq3** into one data frame based on the terms they have in common in column **Term**. Save the merged data frame as **dfall**. Normalize **'Frequency_x'** by dividing each frequency by the column sum of 'Frequency_x'. Similarly, normalize **'Frequency_y'** and **'Frequency'** in the same way. Sort **dfall** by 'Frequency_x' in a descending order and reset the row index. Print the first five rows of **dfall**.\n",
    "\n",
    "*Hint: You can merge dffreq1 and dffreq2 to dfall first and then merge dfall with dffreq3.*"
   ]
  },
  {
   "cell_type": "code",
   "execution_count": null,
   "id": "86c1d8b9",
   "metadata": {},
   "outputs": [],
   "source": [
    "#Your answer here:\n",
    " \n",
    "\n",
    "#Check your answer:\n",
    "dfall.head()"
   ]
  },
  {
   "cell_type": "markdown",
   "id": "a940e661",
   "metadata": {},
   "source": [
    "3. Create a bar chart to compare the normalized term frequencies in the tweets about the three airlines you chose. You only need to plot the top 20 bigrams in **dfall** from question 2, which should have been sorted by **Frequency_x**. You can create the bar chart in any style you like but, in the legend, you need to label the bars with the irlines' names, and the bars must be positioned along the X-axis without any overlap.\n",
    "\n",
    "*Hint: Modify the x-coordiantes of the bars for different airlines (plus something, minus something or simply do nothing).*"
   ]
  },
  {
   "cell_type": "code",
   "execution_count": null,
   "id": "67833397",
   "metadata": {},
   "outputs": [],
   "source": [
    "#You answer here:\n",
    "\n",
    "\n",
    "#Check your answer:\n",
    "plt.show() "
   ]
  },
  {
   "cell_type": "markdown",
   "id": "9f6484ef",
   "metadata": {},
   "source": [
    "## Part 2: Text Network"
   ]
  },
  {
   "cell_type": "markdown",
   "id": "e30d08e0",
   "metadata": {},
   "source": [
    "4. Suppose you want to visiualize the connections between terms and the six airlines. Create a **corpus** object directly from  the csv file \"classdata/Airline-Tweet-Sentiment.csv\". Print **corpus.tokenized()**.\n",
    "\n",
    "*Hint: How to set **doc_col** and **label_col** in function Corpus.from_csv? Which column is the text data? Which column is the group label?* "
   ]
  },
  {
   "cell_type": "code",
   "execution_count": null,
   "id": "86ed2cca",
   "metadata": {},
   "outputs": [],
   "source": [
    "#Your answer here (it may take one or two minutes to run because of the big size of data):\n",
    "\n",
    "\n",
    "#Check your answer\n",
    "corpus.tokenized()"
   ]
  },
  {
   "cell_type": "markdown",
   "id": "0dac5d45",
   "metadata": {},
   "source": [
    "5.  Create a two-mode text network from **corpus** created in question 4 based on the following requirements.\n",
    "\n",
    "   - Only visualize the terms that \n",
    "         *  have a frequency (in column \"n\") of at least 20 \n",
    "         *  have a positive weight (in column \"term_weight\")\n",
    "   - Set color_clusters to False.\n",
    "   - Set label_term_nodes, label_doc_nodes, and show_clusters to True.\n",
    "   \n",
    "You can set other parameters in anyway you like as long as the plot is shown in an appropriate size. "
   ]
  },
  {
   "cell_type": "code",
   "execution_count": null,
   "id": "4a6bfcd0",
   "metadata": {},
   "outputs": [],
   "source": [
    "#Your answer here\n",
    "\n"
   ]
  },
  {
   "cell_type": "markdown",
   "id": "ba3724aa",
   "metadata": {},
   "source": [
    "6.  Create a one-mode text network from the network you created in question 5 by projecting it to the document (group) nodes. The remaining requirements are the same as in question 6 except that, this time, you need to use different colors to represent the clusters instead of using  shaded regions. "
   ]
  },
  {
   "cell_type": "code",
   "execution_count": null,
   "id": "961a13ec",
   "metadata": {},
   "outputs": [],
   "source": [
    "#Your answer here\n",
    "\n"
   ]
  },
  {
   "cell_type": "markdown",
   "id": "8d12e17b",
   "metadata": {},
   "source": [
    "## Part 3: Word Cloud"
   ]
  },
  {
   "cell_type": "markdown",
   "id": "c8f960a2",
   "metadata": {},
   "source": [
    "7. The following code loads  \"classdata/Apple-Twitter-Sentiment-DFE.csv\" into a data frame **df2**. This file contains the tweets that mentioned **@Apple** or **#AAPL**. All urls in the tweets are removed using regular expressions.\n",
    "\n",
    "    Create a word cloud for column \"df2[\"text\"]\" using the picture \"classdata/pngwing.com.png\" in IDAS as the \"mask\". You can choose any colormap, font size, figure size, and style for your word cloud. "
   ]
  },
  {
   "cell_type": "code",
   "execution_count": null,
   "id": "99cafc56",
   "metadata": {},
   "outputs": [],
   "source": [
    "import pandas as pd\n",
    "import re\n",
    "df2 = pd.read_csv(\"classdata/Apple-Twitter-Sentiment-DFE.csv\",encoding='latin-1')\n",
    "df2.text=[re.sub(\"http\\S+\", \"\", s) for s in df2.text]"
   ]
  },
  {
   "cell_type": "code",
   "execution_count": null,
   "id": "7d71c77e",
   "metadata": {},
   "outputs": [],
   "source": [
    "#Your answer here:\n",
    "\n",
    "\n",
    "#Check your answer:\n",
    "plt.show() "
   ]
  }
 ],
 "metadata": {
  "kernelspec": {
   "display_name": "Python 3 (ipykernel)",
   "language": "python",
   "name": "python3"
  },
  "language_info": {
   "codemirror_mode": {
    "name": "ipython",
    "version": 3
   },
   "file_extension": ".py",
   "mimetype": "text/x-python",
   "name": "python",
   "nbconvert_exporter": "python",
   "pygments_lexer": "ipython3",
   "version": "3.9.1"
  }
 },
 "nbformat": 4,
 "nbformat_minor": 5
}
