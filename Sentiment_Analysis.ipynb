{
 "cells": [
  {
   "cell_type": "markdown",
   "id": "c36f4bee",
   "metadata": {},
   "source": [
    "# Exercise 2"
   ]
  },
  {
   "cell_type": "markdown",
   "id": "2a1dc40c",
   "metadata": {},
   "source": [
    "## Part 1"
   ]
  },
  {
   "cell_type": "markdown",
   "id": "f9f6e749",
   "metadata": {},
   "source": [
    "1. Read the file 'classdata/GameStopTweets.csv' into a pandas dataframe called df. This dataframe contains some tweets that mentioned \"#gamestop\". The three columns are the screen names of users, the times when the tweets were posted, and the full texts of the tweets.  Show the first five rows."
   ]
  },
  {
   "cell_type": "code",
   "execution_count": null,
   "id": "8af5db10",
   "metadata": {
    "scrolled": true
   },
   "outputs": [],
   "source": [
    "# Your answer here:\n",
    "\n",
    "# Check your answer:\n",
    "df.head()"
   ]
  },
  {
   "cell_type": "markdown",
   "id": "67aabf82",
   "metadata": {},
   "source": [
    "2. Tokenize all tweets and take the following steps to clean the tokens:\n",
    "    - Turn letters to lower cases.\n",
    "    - Remove all stop words.\n",
    "    - Remove all tokens containing no more than 2 characters.\n",
    "    - Apply stemming to all tokens.\n",
    "    \n",
    "  Count the frequencies of all tokens and save the tokens with their frequencies in a data frame called **dffreq**. "
   ]
  },
  {
   "cell_type": "code",
   "execution_count": null,
   "id": "dded4934",
   "metadata": {},
   "outputs": [],
   "source": [
    "# Your answer here:\n",
    "\n",
    "# Check your answer:\n",
    "dffreq.head(10)"
   ]
  },
  {
   "cell_type": "markdown",
   "id": "bc9ac056",
   "metadata": {},
   "source": [
    "3. The following string variable **mystr** contains two phone numbers in the format (xxx) xxx-xxxx. Note that there is a whitespace after \")\". Use regular expression that represents a phone number in this format to find all phone numbers in this format in **mystr**. Save the phone numbers found in a list call **phonenums**. Be careful that \"(\" and \")\" are meta characters and should be escaped. "
   ]
  },
  {
   "cell_type": "code",
   "execution_count": null,
   "id": "2680d71d",
   "metadata": {},
   "outputs": [],
   "source": [
    "mystr = \"The phone number is (319) 335-0988 not (319) 335-0899\"\n",
    "# Your answer here:\n",
    "\n",
    "# Check your answer:\n",
    "phonenums"
   ]
  },
  {
   "cell_type": "markdown",
   "id": "912ac933",
   "metadata": {},
   "source": [
    "4. The following string variable **tweet_with_url** contains the full text of a tweet in df in question 1. Use regular expression and re.sub to remove all urls in **tweet_with_url** and overwrite **tweet_with_url**. For simplicity, you can assume a url starts with \"https://\" followed by any number of non-spacing characters. "
   ]
  },
  {
   "cell_type": "code",
   "execution_count": null,
   "id": "378ad219",
   "metadata": {},
   "outputs": [],
   "source": [
    "tweet_with_url = df[\"full_text\"][1]"
   ]
  },
  {
   "cell_type": "code",
   "execution_count": null,
   "id": "6419c7a4",
   "metadata": {},
   "outputs": [],
   "source": [
    "# Your answer here:\n",
    "\n",
    "# Check your answer:\n",
    "tweet_with_url"
   ]
  },
  {
   "cell_type": "markdown",
   "id": "f4fc8d1c",
   "metadata": {},
   "source": [
    "5. Apply the change made in question 4 to the full text of each tweet in df. Save the result in a new column of df called \"full_text_nourl\". "
   ]
  },
  {
   "cell_type": "code",
   "execution_count": null,
   "id": "21fcdbe6",
   "metadata": {},
   "outputs": [],
   "source": [
    "# Your answer here:\n",
    "\n",
    "# Check your answer:\n",
    "df.head()"
   ]
  },
  {
   "cell_type": "markdown",
   "id": "2c1d8ba2",
   "metadata": {},
   "source": [
    "## Part 2"
   ]
  },
  {
   "cell_type": "markdown",
   "id": "c2c1379d",
   "metadata": {},
   "source": [
    "**ipod_onetagV2.txt** contains consumer reviews of ipod. Each line in **ipod_onetagV2.txt** is a sentence from a review and it has the format like **\"feature[rating]##text\"** where\n",
    "- **feature** is a keyword (e.g. battery or price) indicating what specific feature of ipod the customer commented about in this sentence. \n",
    "- **rating** is a sentiment rating of this review (from -5 to 5) and it is contained in brackets. \n",
    "- **text** is the text of the sentence and it is separated from score by double hashtags ##."
   ]
  },
  {
   "cell_type": "markdown",
   "id": "54548415",
   "metadata": {},
   "source": [
    "The following codes load the data and prints the first five lines."
   ]
  },
  {
   "cell_type": "code",
   "execution_count": null,
   "id": "beb05421",
   "metadata": {},
   "outputs": [],
   "source": [
    "file = open(\"classdata/ipod_onetagV2.txt\", mode=\"r\")     \n",
    "textlines = file.readlines()                                  \n",
    "file.close()                                             \n",
    "textlines[0:5]                                               "
   ]
  },
  {
   "cell_type": "markdown",
   "id": "42bee9fe",
   "metadata": {},
   "source": [
    "**Our goal**: Creat three lists called **feature**, **rating**, and **text** that contains each of three components of each line in **textlines**. There exist some sentences that do not comment on any specific feature. In that case, the line will begin directly with **##text** without the other two components. You must remove those lines first."
   ]
  },
  {
   "cell_type": "markdown",
   "id": "3f0049c4",
   "metadata": {},
   "source": [
    "1. Use <b>bool(re.search(......))</b> to check whether the first line in **textlines**, textlines[0],  does not begin with \"#\". Return \"True\" if it does not begin with \"#\" and return \"False\" otherwise. *Hint: what does \"^\" mean inside and outside square brackets?*"
   ]
  },
  {
   "cell_type": "code",
   "execution_count": null,
   "id": "aaf7f3a8",
   "metadata": {},
   "outputs": [],
   "source": [
    "#Your answer here\n"
   ]
  },
  {
   "cell_type": "markdown",
   "id": "a9af4b46",
   "metadata": {},
   "source": [
    "2. Overwrite **textlines** with the lines in **textlines** that do not begin with \"#\". \n",
    "\n",
    "*Hint: You can use list comprehension with if statement. The boolean condition in your if statement can be given by <b>bool(re.search(......))</b>*. "
   ]
  },
  {
   "cell_type": "code",
   "execution_count": null,
   "id": "e4c067d6",
   "metadata": {},
   "outputs": [],
   "source": [
    "# Your answer here\n",
    "\n",
    "# Check your answer\n",
    "textlines[0:5]"
   ]
  },
  {
   "cell_type": "markdown",
   "id": "220b478c",
   "metadata": {},
   "source": [
    "#### For the purpose of this course, you only need to know how to solve the two questions above. The following three questions are optional, although they can be solved using the RE techniques covered in the lecture. Work on them if you like some challenge."
   ]
  },
  {
   "cell_type": "markdown",
   "id": "687c327b",
   "metadata": {},
   "source": [
    "3. Create a list called **feature** that contains the \"feature\" component of each line in  **textlines**.\n",
    "\n",
    "*Hint: You can use list comprehension with <b>re.findall</b> to find the continuous occurrence of letters at the beginning in each line.* "
   ]
  },
  {
   "cell_type": "code",
   "execution_count": null,
   "id": "83dd9a18",
   "metadata": {},
   "outputs": [],
   "source": [
    "# Your answer here\n",
    "\n",
    "# Check your answer\n",
    "feature[0:5]"
   ]
  },
  {
   "cell_type": "markdown",
   "id": "4348de27",
   "metadata": {},
   "source": [
    "4. Create a list called **rating** that contains the \"rating\" component of each line in  **textlines**.\n",
    "\n",
    "*Hint: You can use list comprehension with <b>re.findall</b> to find the string pattern like \"[...]\" in each line. Then you use another  list comprehension with <b>re.sub</b> to remove the square brackets. Be careful that \"[\" and \"]\" are meta characters and must be escaped with bachslash.* "
   ]
  },
  {
   "cell_type": "code",
   "execution_count": null,
   "id": "218c9a6c",
   "metadata": {},
   "outputs": [],
   "source": [
    "# Your answer here\n",
    "\n",
    "# Check your answer\n",
    "rating[0:5]"
   ]
  },
  {
   "cell_type": "markdown",
   "id": "17567e50",
   "metadata": {},
   "source": [
    "5. Create a list called **text** that contains the \"text\" component of each line in  **textlines**.\n",
    "\n",
    "*Hint: You can use list comprehension with <b>re.findall</b> to find the string pattern like \"##....\" in each line. Then you use another list comprehension with <b>re.sub</b> to remove \"##\". * "
   ]
  },
  {
   "cell_type": "code",
   "execution_count": null,
   "id": "4d0f6081",
   "metadata": {
    "scrolled": true
   },
   "outputs": [],
   "source": [
    "# Your answer here\n",
    "\n",
    "# Check your answer\n",
    "text[0:5]"
   ]
  }
 ],
 "metadata": {
  "kernelspec": {
   "display_name": "Python 3 (ipykernel)",
   "language": "python",
   "name": "python3"
  },
  "language_info": {
   "codemirror_mode": {
    "name": "ipython",
    "version": 3
   },
   "file_extension": ".py",
   "mimetype": "text/x-python",
   "name": "python",
   "nbconvert_exporter": "python",
   "pygments_lexer": "ipython3",
   "version": "3.9.1"
  }
 },
 "nbformat": 4,
 "nbformat_minor": 5
}
